{
 "cells": [
  {
   "cell_type": "code",
   "execution_count": 1,
   "metadata": {},
   "outputs": [],
   "source": [
    "import numpy as np"
   ]
  },
  {
   "cell_type": "code",
   "execution_count": 2,
   "metadata": {},
   "outputs": [],
   "source": [
    "def LCS(s1,s2):\n",
    "\n",
    "    matrix = np.zeros((len(s1)+1,len(s2)+1))\n",
    "    for i in range(len(s1)):\n",
    "        for j in range(len(s2)):\n",
    "            if  s1[0]==s2[j] :\n",
    "                matrix[i+1][j+1] = 1\n",
    "            else:\n",
    "                matrix[i+1][j+1]=max(matrix[i+1][j], matrix[i][j+1])\n",
    "            if i!=0:\n",
    "                if s1[i]==s2[j]:\n",
    "                    matrix[i+1][j+1]=matrix[i][j]+1\n",
    "                else:\n",
    "                    matrix[i+1][j+1]=max(matrix[i+1][j], matrix[i][j+1])\n",
    "    return(matrix)"
   ]
  },
  {
   "cell_type": "code",
   "execution_count": 3,
   "metadata": {},
   "outputs": [
    {
     "data": {
      "text/plain": [
       "array([[0., 0., 0., 0., 0.],\n",
       "       [0., 1., 1., 1., 1.],\n",
       "       [0., 1., 1., 1., 1.],\n",
       "       [0., 1., 1., 2., 2.],\n",
       "       [0., 1., 2., 2., 2.],\n",
       "       [0., 1., 2., 2., 3.]])"
      ]
     },
     "execution_count": 3,
     "metadata": {},
     "output_type": "execute_result"
    }
   ],
   "source": [
    "LCS('BACDB','BDCB')"
   ]
  },
  {
   "cell_type": "code",
   "execution_count": 4,
   "metadata": {},
   "outputs": [],
   "source": [
    "def backtracking(s1,s2):\n",
    "    s = \"\"\n",
    "    matrix=LCS(s1,s2)\n",
    "    i=len(s1)\n",
    "    j=len(s2)\n",
    "    for k in range(len(s1)):\n",
    "        if matrix[i][j] == matrix[i-1][j] and j!=0:\n",
    "           i=i-1\n",
    "           j=j\n",
    "        else:\n",
    "           s= s1[i-1]+s\n",
    "           i=i-1\n",
    "           j=j-1\n",
    "    return(s)"
   ]
  },
  {
   "cell_type": "code",
   "execution_count": 5,
   "metadata": {},
   "outputs": [
    {
     "data": {
      "text/plain": [
       "'BCB'"
      ]
     },
     "execution_count": 5,
     "metadata": {},
     "output_type": "execute_result"
    }
   ],
   "source": [
    "backtracking('BACDB','BDCB')"
   ]
  },
  {
   "cell_type": "code",
   "execution_count": null,
   "metadata": {},
   "outputs": [],
   "source": []
  }
 ],
 "metadata": {
  "kernelspec": {
   "display_name": "Python 3",
   "language": "python",
   "name": "python3"
  },
  "language_info": {
   "codemirror_mode": {
    "name": "ipython",
    "version": 3
   },
   "file_extension": ".py",
   "mimetype": "text/x-python",
   "name": "python",
   "nbconvert_exporter": "python",
   "pygments_lexer": "ipython3",
   "version": "3.6.5"
  }
 },
 "nbformat": 4,
 "nbformat_minor": 2
}
